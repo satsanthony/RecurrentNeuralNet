{
 "cells": [
  {
   "cell_type": "code",
   "execution_count": 64,
   "metadata": {},
   "outputs": [],
   "source": [
    "import warnings\n",
    "warnings.filterwarnings(\"ignore\")\n",
    "import matplotlib.pyplot as plt\n",
    "import seaborn as sns\n",
    "import pandas as pd\n",
    "import numpy as np\n",
    "from sklearn.preprocessing import StandardScaler, MinMaxScaler, RobustScaler\n",
    "import tensorflow as tf\n",
    "from tensorflow import keras"
   ]
  },
  {
   "cell_type": "code",
   "execution_count": 65,
   "metadata": {},
   "outputs": [],
   "source": [
    "#https://www.kaggle.com/c/bike-sharing-demand/data\n",
    "dcpd = pd.read_csv(\"dc_bike_share_train.csv\", parse_dates=[\"datetime\"], index_col=\"datetime\")"
   ]
  },
  {
   "cell_type": "code",
   "execution_count": 66,
   "metadata": {},
   "outputs": [],
   "source": [
    "#keep 90% of the data for train. If you use validation steps, make it 80%\n",
    "train_size = int(len(dcpd) * 0.9)\n",
    "train, test = dcpd.iloc[0:train_size], dcpd.iloc[train_size: int(len(dcpd))]"
   ]
  },
  {
   "cell_type": "code",
   "execution_count": 67,
   "metadata": {},
   "outputs": [
    {
     "name": "stdout",
     "output_type": "stream",
     "text": [
      "(9797, 11) (1089, 11)\n"
     ]
    }
   ],
   "source": [
    "#copy the original dataframe to apply prediction\n",
    "dcpd_copy = dcpd\n",
    "print(train.shape, test.shape)"
   ]
  },
  {
   "cell_type": "markdown",
   "metadata": {},
   "source": [
    "Data Fields definition:\n",
    "datetime - hourly date + timestamp  \n",
    "season -  1 = spring, 2 = summer, 3 = fall, 4 = winter \n",
    "holiday - whether the day is considered a holiday\n",
    "workingday - whether the day is neither a weekend nor holiday\n",
    "weather - 1: Clear, Few clouds, Partly cloudy, Partly cloudy\n",
    "2: Mist + Cloudy, Mist + Broken clouds, Mist + Few clouds, Mist\n",
    "3: Light Snow, Light Rain + Thunderstorm + Scattered clouds, Light Rain + Scattered clouds\n",
    "4: Heavy Rain + Ice Pallets + Thunderstorm + Mist, Snow + Fog \n",
    "temp - temperature in Celsius\n",
    "atemp - \"feels like\" temperature in Celsius\n",
    "humidity - relative humidity\n",
    "windspeed - wind speed\n",
    "casual - number of non-registered user rentals initiated\n",
    "registered - number of registered user rentals initiated\n",
    "count - number of total rentals"
   ]
  },
  {
   "cell_type": "code",
   "execution_count": 68,
   "metadata": {},
   "outputs": [
    {
     "data": {
      "text/html": [
       "<div>\n",
       "<style scoped>\n",
       "    .dataframe tbody tr th:only-of-type {\n",
       "        vertical-align: middle;\n",
       "    }\n",
       "\n",
       "    .dataframe tbody tr th {\n",
       "        vertical-align: top;\n",
       "    }\n",
       "\n",
       "    .dataframe thead th {\n",
       "        text-align: right;\n",
       "    }\n",
       "</style>\n",
       "<table border=\"1\" class=\"dataframe\">\n",
       "  <thead>\n",
       "    <tr style=\"text-align: right;\">\n",
       "      <th></th>\n",
       "      <th>season</th>\n",
       "      <th>holiday</th>\n",
       "      <th>workingday</th>\n",
       "      <th>weather</th>\n",
       "      <th>temp</th>\n",
       "      <th>atemp</th>\n",
       "      <th>humidity</th>\n",
       "      <th>windspeed</th>\n",
       "      <th>casual</th>\n",
       "      <th>registered</th>\n",
       "      <th>count</th>\n",
       "    </tr>\n",
       "    <tr>\n",
       "      <th>datetime</th>\n",
       "      <th></th>\n",
       "      <th></th>\n",
       "      <th></th>\n",
       "      <th></th>\n",
       "      <th></th>\n",
       "      <th></th>\n",
       "      <th></th>\n",
       "      <th></th>\n",
       "      <th></th>\n",
       "      <th></th>\n",
       "      <th></th>\n",
       "    </tr>\n",
       "  </thead>\n",
       "  <tbody>\n",
       "    <tr>\n",
       "      <th>2011-01-01 00:00:00</th>\n",
       "      <td>1</td>\n",
       "      <td>0</td>\n",
       "      <td>0</td>\n",
       "      <td>1</td>\n",
       "      <td>9.84</td>\n",
       "      <td>14.395</td>\n",
       "      <td>81</td>\n",
       "      <td>0.0</td>\n",
       "      <td>3</td>\n",
       "      <td>13</td>\n",
       "      <td>16</td>\n",
       "    </tr>\n",
       "    <tr>\n",
       "      <th>2011-01-01 01:00:00</th>\n",
       "      <td>1</td>\n",
       "      <td>0</td>\n",
       "      <td>0</td>\n",
       "      <td>1</td>\n",
       "      <td>9.02</td>\n",
       "      <td>13.635</td>\n",
       "      <td>80</td>\n",
       "      <td>0.0</td>\n",
       "      <td>8</td>\n",
       "      <td>32</td>\n",
       "      <td>40</td>\n",
       "    </tr>\n",
       "    <tr>\n",
       "      <th>2011-01-01 02:00:00</th>\n",
       "      <td>1</td>\n",
       "      <td>0</td>\n",
       "      <td>0</td>\n",
       "      <td>1</td>\n",
       "      <td>9.02</td>\n",
       "      <td>13.635</td>\n",
       "      <td>80</td>\n",
       "      <td>0.0</td>\n",
       "      <td>5</td>\n",
       "      <td>27</td>\n",
       "      <td>32</td>\n",
       "    </tr>\n",
       "    <tr>\n",
       "      <th>2011-01-01 03:00:00</th>\n",
       "      <td>1</td>\n",
       "      <td>0</td>\n",
       "      <td>0</td>\n",
       "      <td>1</td>\n",
       "      <td>9.84</td>\n",
       "      <td>14.395</td>\n",
       "      <td>75</td>\n",
       "      <td>0.0</td>\n",
       "      <td>3</td>\n",
       "      <td>10</td>\n",
       "      <td>13</td>\n",
       "    </tr>\n",
       "    <tr>\n",
       "      <th>2011-01-01 04:00:00</th>\n",
       "      <td>1</td>\n",
       "      <td>0</td>\n",
       "      <td>0</td>\n",
       "      <td>1</td>\n",
       "      <td>9.84</td>\n",
       "      <td>14.395</td>\n",
       "      <td>75</td>\n",
       "      <td>0.0</td>\n",
       "      <td>0</td>\n",
       "      <td>1</td>\n",
       "      <td>1</td>\n",
       "    </tr>\n",
       "  </tbody>\n",
       "</table>\n",
       "</div>"
      ],
      "text/plain": [
       "                     season  holiday  workingday  weather  temp   atemp  \\\n",
       "datetime                                                                  \n",
       "2011-01-01 00:00:00       1        0           0        1  9.84  14.395   \n",
       "2011-01-01 01:00:00       1        0           0        1  9.02  13.635   \n",
       "2011-01-01 02:00:00       1        0           0        1  9.02  13.635   \n",
       "2011-01-01 03:00:00       1        0           0        1  9.84  14.395   \n",
       "2011-01-01 04:00:00       1        0           0        1  9.84  14.395   \n",
       "\n",
       "                     humidity  windspeed  casual  registered  count  \n",
       "datetime                                                             \n",
       "2011-01-01 00:00:00        81        0.0       3          13     16  \n",
       "2011-01-01 01:00:00        80        0.0       8          32     40  \n",
       "2011-01-01 02:00:00        80        0.0       5          27     32  \n",
       "2011-01-01 03:00:00        75        0.0       3          10     13  \n",
       "2011-01-01 04:00:00        75        0.0       0           1      1  "
      ]
     },
     "execution_count": 68,
     "metadata": {},
     "output_type": "execute_result"
    }
   ],
   "source": [
    "dcpd.head()"
   ]
  },
  {
   "cell_type": "code",
   "execution_count": 69,
   "metadata": {},
   "outputs": [],
   "source": [
    "#It uses the interquartile range, so that it is robust to outliers. Focuses on area of bulk data\n",
    "scaler = RobustScaler()\n",
    "columns_scaled = [\"temp\",\"atemp\",\"humidity\",\"windspeed\",\"casual\",\"registered\"]\n",
    "\n",
    "x_scaled = scaler.fit(train[columns_scaled].to_numpy())\n",
    "y_scaled = scaler.fit(train[[\"count\"]])\n",
    "\n",
    "train.loc[:,columns_scaled] = x_scaled.transform(train[columns_scaled].to_numpy())\n",
    "train[\"count\"] = scaler.transform(train[[\"count\"]])\n",
    "\n",
    "test.loc[:,columns_scaled] = x_scaled.transform(test[columns_scaled].to_numpy())\n",
    "test[\"count\"] = scaler.transform(test[[\"count\"]])"
   ]
  },
  {
   "cell_type": "code",
   "execution_count": 70,
   "metadata": {},
   "outputs": [
    {
     "data": {
      "text/html": [
       "<div>\n",
       "<style scoped>\n",
       "    .dataframe tbody tr th:only-of-type {\n",
       "        vertical-align: middle;\n",
       "    }\n",
       "\n",
       "    .dataframe tbody tr th {\n",
       "        vertical-align: top;\n",
       "    }\n",
       "\n",
       "    .dataframe thead th {\n",
       "        text-align: right;\n",
       "    }\n",
       "</style>\n",
       "<table border=\"1\" class=\"dataframe\">\n",
       "  <thead>\n",
       "    <tr style=\"text-align: right;\">\n",
       "      <th></th>\n",
       "      <th>season</th>\n",
       "      <th>holiday</th>\n",
       "      <th>workingday</th>\n",
       "      <th>weather</th>\n",
       "      <th>temp</th>\n",
       "      <th>atemp</th>\n",
       "      <th>humidity</th>\n",
       "      <th>windspeed</th>\n",
       "      <th>casual</th>\n",
       "      <th>registered</th>\n",
       "      <th>count</th>\n",
       "    </tr>\n",
       "    <tr>\n",
       "      <th>datetime</th>\n",
       "      <th></th>\n",
       "      <th></th>\n",
       "      <th></th>\n",
       "      <th></th>\n",
       "      <th></th>\n",
       "      <th></th>\n",
       "      <th></th>\n",
       "      <th></th>\n",
       "      <th></th>\n",
       "      <th></th>\n",
       "      <th></th>\n",
       "    </tr>\n",
       "  </thead>\n",
       "  <tbody>\n",
       "    <tr>\n",
       "      <th>2012-10-12 14:00:00</th>\n",
       "      <td>4</td>\n",
       "      <td>0</td>\n",
       "      <td>1</td>\n",
       "      <td>1</td>\n",
       "      <td>-0.491695</td>\n",
       "      <td>-0.476631</td>\n",
       "      <td>-0.432203</td>\n",
       "      <td>-0.457623</td>\n",
       "      <td>-0.127119</td>\n",
       "      <td>0.521186</td>\n",
       "      <td>0.983051</td>\n",
       "    </tr>\n",
       "    <tr>\n",
       "      <th>2012-10-12 15:00:00</th>\n",
       "      <td>4</td>\n",
       "      <td>0</td>\n",
       "      <td>1</td>\n",
       "      <td>1</td>\n",
       "      <td>-0.498644</td>\n",
       "      <td>-0.483051</td>\n",
       "      <td>-0.411017</td>\n",
       "      <td>-0.461853</td>\n",
       "      <td>-0.004237</td>\n",
       "      <td>0.754237</td>\n",
       "      <td>1.338983</td>\n",
       "    </tr>\n",
       "    <tr>\n",
       "      <th>2012-10-12 16:00:00</th>\n",
       "      <td>4</td>\n",
       "      <td>0</td>\n",
       "      <td>1</td>\n",
       "      <td>1</td>\n",
       "      <td>-0.509068</td>\n",
       "      <td>-0.492691</td>\n",
       "      <td>-0.415254</td>\n",
       "      <td>-0.487291</td>\n",
       "      <td>-0.131356</td>\n",
       "      <td>1.156780</td>\n",
       "      <td>1.614407</td>\n",
       "    </tr>\n",
       "    <tr>\n",
       "      <th>2012-10-12 17:00:00</th>\n",
       "      <td>4</td>\n",
       "      <td>0</td>\n",
       "      <td>1</td>\n",
       "      <td>1</td>\n",
       "      <td>-0.509068</td>\n",
       "      <td>-0.492691</td>\n",
       "      <td>-0.427966</td>\n",
       "      <td>-0.478802</td>\n",
       "      <td>-0.033898</td>\n",
       "      <td>2.402542</td>\n",
       "      <td>2.957627</td>\n",
       "    </tr>\n",
       "    <tr>\n",
       "      <th>2012-10-12 18:00:00</th>\n",
       "      <td>4</td>\n",
       "      <td>0</td>\n",
       "      <td>1</td>\n",
       "      <td>1</td>\n",
       "      <td>-0.512542</td>\n",
       "      <td>-0.495890</td>\n",
       "      <td>-0.427966</td>\n",
       "      <td>-0.504239</td>\n",
       "      <td>-0.266949</td>\n",
       "      <td>1.809322</td>\n",
       "      <td>2.131356</td>\n",
       "    </tr>\n",
       "  </tbody>\n",
       "</table>\n",
       "</div>"
      ],
      "text/plain": [
       "                     season  holiday  workingday  weather      temp     atemp  \\\n",
       "datetime                                                                        \n",
       "2012-10-12 14:00:00       4        0           1        1 -0.491695 -0.476631   \n",
       "2012-10-12 15:00:00       4        0           1        1 -0.498644 -0.483051   \n",
       "2012-10-12 16:00:00       4        0           1        1 -0.509068 -0.492691   \n",
       "2012-10-12 17:00:00       4        0           1        1 -0.509068 -0.492691   \n",
       "2012-10-12 18:00:00       4        0           1        1 -0.512542 -0.495890   \n",
       "\n",
       "                     humidity  windspeed    casual  registered     count  \n",
       "datetime                                                                  \n",
       "2012-10-12 14:00:00 -0.432203  -0.457623 -0.127119    0.521186  0.983051  \n",
       "2012-10-12 15:00:00 -0.411017  -0.461853 -0.004237    0.754237  1.338983  \n",
       "2012-10-12 16:00:00 -0.415254  -0.487291 -0.131356    1.156780  1.614407  \n",
       "2012-10-12 17:00:00 -0.427966  -0.478802 -0.033898    2.402542  2.957627  \n",
       "2012-10-12 18:00:00 -0.427966  -0.504239 -0.266949    1.809322  2.131356  "
      ]
     },
     "execution_count": 70,
     "metadata": {},
     "output_type": "execute_result"
    }
   ],
   "source": [
    "test.head()"
   ]
  },
  {
   "cell_type": "code",
   "execution_count": 71,
   "metadata": {},
   "outputs": [],
   "source": [
    "#Always create batches of dataset with 3D array of inputs as needed by LSTM (Long Short Term Memory) / GRU\n",
    "def createdataset(X, y, time_steps=1):\n",
    "    Xs, ys = [], []\n",
    "    for i in range(len(X) - time_steps):\n",
    "        v = X.iloc[i: (i+time_steps)].to_numpy()\n",
    "        Xs.append(v)\n",
    "        w = y.iloc[i: (i+time_steps)].to_numpy()\n",
    "        ys.append(w)\n",
    "    return np.array(Xs), np.array(ys)"
   ]
  },
  {
   "cell_type": "code",
   "execution_count": 72,
   "metadata": {},
   "outputs": [],
   "source": [
    "# Since there are 24 hours in the bikeshare dataset, set the timeseries to 24\n",
    "prior_time_stamp = 24\n",
    "X_train, y_train = createdataset(train, train[\"count\"], time_steps = prior_time_stamp)\n",
    "X_test, y_test = createdataset(test, test[\"count\"], time_steps = prior_time_stamp)"
   ]
  },
  {
   "cell_type": "code",
   "execution_count": 73,
   "metadata": {},
   "outputs": [
    {
     "data": {
      "text/plain": [
       "((9773, 24, 11), (9773, 24))"
      ]
     },
     "execution_count": 73,
     "metadata": {},
     "output_type": "execute_result"
    }
   ],
   "source": [
    "# It is important to check the shape of the dataset after every process\n",
    "X_train.shape, y_train.shape"
   ]
  },
  {
   "cell_type": "code",
   "execution_count": 74,
   "metadata": {},
   "outputs": [],
   "source": [
    "# BiDirectional with GRU. Similar to LSTM. Input shape should be the (,24,11) as the first dimension is the count of rows\n",
    "# 20% Dropout and units=24 for the timesteps that needs to be predicted at once in the ouput layer\n",
    "model = keras.Sequential()\n",
    "model.add(keras.layers.Bidirectional\n",
    "          (keras.layers.GRU(units=128,input_shape=(X_train.shape[1],X_train.shape[2])\n",
    "     )\n",
    "    )\n",
    ")\n",
    "model.add(keras.layers.Dropout(rate=0.2))\n",
    "model.add(keras.layers.Dense(units=24))"
   ]
  },
  {
   "cell_type": "code",
   "execution_count": 75,
   "metadata": {},
   "outputs": [],
   "source": [
    "model.compile(loss='mse', optimizer='adam')\n",
    "history = model.fit(X_train, y_train, epochs=30, batch_size= 32, validation_split=0.1, shuffle=False, verbose=0)"
   ]
  },
  {
   "cell_type": "code",
   "execution_count": 76,
   "metadata": {},
   "outputs": [],
   "source": [
    "#save the model for future use. Uncomment the line below to save\n",
    "model.save(\"GRU-24-timestep.h5\")"
   ]
  },
  {
   "cell_type": "code",
   "execution_count": 77,
   "metadata": {},
   "outputs": [
    {
     "name": "stdout",
     "output_type": "stream",
     "text": [
      "Model: \"sequential_2\"\n",
      "_________________________________________________________________\n",
      "Layer (type)                 Output Shape              Param #   \n",
      "=================================================================\n",
      "bidirectional_2 (Bidirection multiple                  108288    \n",
      "_________________________________________________________________\n",
      "dropout_1 (Dropout)          multiple                  0         \n",
      "_________________________________________________________________\n",
      "dense_1 (Dense)              multiple                  6168      \n",
      "=================================================================\n",
      "Total params: 114,456\n",
      "Trainable params: 114,456\n",
      "Non-trainable params: 0\n",
      "_________________________________________________________________\n"
     ]
    }
   ],
   "source": [
    "model.summary()"
   ]
  },
  {
   "cell_type": "code",
   "execution_count": 78,
   "metadata": {},
   "outputs": [],
   "source": [
    "#Load the model for future use. Uncomment the line below to use\n",
    "#model = keras.models.load_model(\"GRU-24-timestep.h5\")"
   ]
  },
  {
   "cell_type": "code",
   "execution_count": 79,
   "metadata": {},
   "outputs": [
    {
     "data": {
      "text/plain": [
       "<matplotlib.legend.Legend at 0x240173b2b00>"
      ]
     },
     "execution_count": 79,
     "metadata": {},
     "output_type": "execute_result"
    },
    {
     "data": {
      "image/png": "[encoded data removed]",
      "text/plain": [
       "<Figure size 1296x360 with 1 Axes>"
      ]
     },
     "metadata": {},
     "output_type": "display_data"
    }
   ],
   "source": [
    "#Observe that with earlystopping, you can setup the epochs = 15 for optimal performance\n",
    "plt.figure(figsize=(18,5))\n",
    "plt.plot(history.history['loss'], label='train')\n",
    "plt.plot(history.history['val_loss'], label='validation')\n",
    "plt.title('BiDirectional GRU RNN')\n",
    "plt.legend()"
   ]
  },
  {
   "cell_type": "code",
   "execution_count": 80,
   "metadata": {},
   "outputs": [],
   "source": [
    "#Create test dataset batches to compare test vs prediction"
   ]
  },
  {
   "cell_type": "code",
   "execution_count": 81,
   "metadata": {},
   "outputs": [
    {
     "name": "stdout",
     "output_type": "stream",
     "text": [
      "(1065, 24, 11) (1065, 24)\n"
     ]
    }
   ],
   "source": [
    "print(X_test.shape, y_test.shape)"
   ]
  },
  {
   "cell_type": "code",
   "execution_count": 82,
   "metadata": {},
   "outputs": [],
   "source": [
    "y_pred = model.predict(X_test)"
   ]
  },
  {
   "cell_type": "code",
   "execution_count": 83,
   "metadata": {},
   "outputs": [
    {
     "data": {
      "text/plain": [
       "(1065, 24)"
      ]
     },
     "execution_count": 83,
     "metadata": {},
     "output_type": "execute_result"
    }
   ],
   "source": [
    "y_pred.shape"
   ]
  },
  {
   "cell_type": "code",
   "execution_count": 84,
   "metadata": {},
   "outputs": [
    {
     "data": {
      "text/plain": [
       "0.0058334656"
      ]
     },
     "execution_count": 84,
     "metadata": {},
     "output_type": "execute_result"
    }
   ],
   "source": [
    "#Calculate the MSE, the lower the better. This shows a poc for the metric. In reality you need to inverse transform\n",
    "#Applying inverse transform which gives us re-scaled data, MSE may be high. You will need to fine tune the model\n",
    "np.mean(keras.losses.mean_squared_error(y_test, y_pred))"
   ]
  },
  {
   "cell_type": "code",
   "execution_count": 85,
   "metadata": {},
   "outputs": [],
   "source": [
    "#Get the real values by applying inverse transform to the RobustScaler\n",
    "y_test = scaler.inverse_transform(y_test)\n",
    "y_pred1 = scaler.inverse_transform(y_pred)"
   ]
  },
  {
   "cell_type": "code",
   "execution_count": 86,
   "metadata": {},
   "outputs": [
    {
     "name": "stdout",
     "output_type": "stream",
     "text": [
      "(1065, 24) (1065, 24)\n"
     ]
    }
   ],
   "source": [
    "print(y_test.shape, y_pred1.shape)"
   ]
  },
  {
   "cell_type": "code",
   "execution_count": 87,
   "metadata": {},
   "outputs": [
    {
     "data": {
      "text/plain": [
       "<matplotlib.legend.Legend at 0x24019e24128>"
      ]
     },
     "execution_count": 87,
     "metadata": {},
     "output_type": "execute_result"
    },
    {
     "data": {
      "image/png": "[encoded data removed]",
      "text/plain": [
       "<Figure size 1296x360 with 1 Axes>"
      ]
     },
     "metadata": {},
     "output_type": "display_data"
    }
   ],
   "source": [
    "#Present the first batch for comparison of test vs. predictions. Though the values appear close, futher tuning is needed\n",
    "plt.figure(figsize=(18,5))\n",
    "plt.plot(y_test[0], marker='.', label='actual')\n",
    "plt.plot(y_pred1[0], 'r', label='predicted')\n",
    "plt.legend()"
   ]
  },
  {
   "cell_type": "markdown",
   "metadata": {},
   "source": [
    "# Predict the future 24 timesteps and plot the last 24 steps with future 24 steps"
   ]
  },
  {
   "cell_type": "code",
   "execution_count": 88,
   "metadata": {},
   "outputs": [],
   "source": [
    "#Take 1 value from the past to predict 24 in the future. Code can be further cleaned up\n",
    "#by creating a new function to pass last 24 predicted values to capture new 24 / future 24 lines\n",
    "X = X_test[-1:]\n",
    "y_pred_new = model.predict(X)"
   ]
  },
  {
   "cell_type": "code",
   "execution_count": 89,
   "metadata": {},
   "outputs": [],
   "source": [
    "y_pred_new = scaler.inverse_transform(y_pred_new)\n",
    "y_test_new = scaler.inverse_transform(y_test)"
   ]
  },
  {
   "cell_type": "code",
   "execution_count": 90,
   "metadata": {},
   "outputs": [],
   "source": [
    "y_pred_reshape = y_pred_new.reshape(-1,1)"
   ]
  },
  {
   "cell_type": "code",
   "execution_count": 91,
   "metadata": {},
   "outputs": [
    {
     "name": "stdout",
     "output_type": "stream",
     "text": [
      "(24, 1)\n"
     ]
    }
   ],
   "source": [
    "print(y_pred_reshape.shape)"
   ]
  },
  {
   "cell_type": "code",
   "execution_count": 92,
   "metadata": {},
   "outputs": [],
   "source": [
    "#Calculate a dataframe with the future 24 timesteps December 20, for 24 hours\n",
    "from pandas.tseries.offsets import DateOffset\n",
    "df = dcpd_copy\n",
    "add_dates = [df.index[-1] + DateOffset(hours=x) for x in range(0,25)]\n",
    "future_dates = pd.DataFrame(index=add_dates[1:],columns=df.columns)"
   ]
  },
  {
   "cell_type": "code",
   "execution_count": 93,
   "metadata": {},
   "outputs": [],
   "source": [
    "df_predict = pd.DataFrame(y_pred_reshape,index=future_dates[-24:].index, columns=['Prediction'])"
   ]
  },
  {
   "cell_type": "code",
   "execution_count": 94,
   "metadata": {},
   "outputs": [
    {
     "data": {
      "text/html": [
       "<div>\n",
       "<style scoped>\n",
       "    .dataframe tbody tr th:only-of-type {\n",
       "        vertical-align: middle;\n",
       "    }\n",
       "\n",
       "    .dataframe tbody tr th {\n",
       "        vertical-align: top;\n",
       "    }\n",
       "\n",
       "    .dataframe thead th {\n",
       "        text-align: right;\n",
       "    }\n",
       "</style>\n",
       "<table border=\"1\" class=\"dataframe\">\n",
       "  <thead>\n",
       "    <tr style=\"text-align: right;\">\n",
       "      <th></th>\n",
       "      <th>Prediction</th>\n",
       "    </tr>\n",
       "  </thead>\n",
       "  <tbody>\n",
       "    <tr>\n",
       "      <th>2012-12-20 00:00:00</th>\n",
       "      <td>75.736572</td>\n",
       "    </tr>\n",
       "    <tr>\n",
       "      <th>2012-12-20 01:00:00</th>\n",
       "      <td>23.135208</td>\n",
       "    </tr>\n",
       "    <tr>\n",
       "      <th>2012-12-20 02:00:00</th>\n",
       "      <td>30.167915</td>\n",
       "    </tr>\n",
       "    <tr>\n",
       "      <th>2012-12-20 03:00:00</th>\n",
       "      <td>22.625137</td>\n",
       "    </tr>\n",
       "    <tr>\n",
       "      <th>2012-12-20 04:00:00</th>\n",
       "      <td>12.697693</td>\n",
       "    </tr>\n",
       "  </tbody>\n",
       "</table>\n",
       "</div>"
      ],
      "text/plain": [
       "                     Prediction\n",
       "2012-12-20 00:00:00   75.736572\n",
       "2012-12-20 01:00:00   23.135208\n",
       "2012-12-20 02:00:00   30.167915\n",
       "2012-12-20 03:00:00   22.625137\n",
       "2012-12-20 04:00:00   12.697693"
      ]
     },
     "execution_count": 94,
     "metadata": {},
     "output_type": "execute_result"
    }
   ],
   "source": [
    "df_predict.head()"
   ]
  },
  {
   "cell_type": "code",
   "execution_count": 95,
   "metadata": {},
   "outputs": [],
   "source": [
    "df_proj = pd.concat([dcpd_copy, df_predict], axis=1)"
   ]
  },
  {
   "cell_type": "code",
   "execution_count": 96,
   "metadata": {},
   "outputs": [
    {
     "data": {
      "text/html": [
       "<div>\n",
       "<style scoped>\n",
       "    .dataframe tbody tr th:only-of-type {\n",
       "        vertical-align: middle;\n",
       "    }\n",
       "\n",
       "    .dataframe tbody tr th {\n",
       "        vertical-align: top;\n",
       "    }\n",
       "\n",
       "    .dataframe thead th {\n",
       "        text-align: right;\n",
       "    }\n",
       "</style>\n",
       "<table border=\"1\" class=\"dataframe\">\n",
       "  <thead>\n",
       "    <tr style=\"text-align: right;\">\n",
       "      <th></th>\n",
       "      <th>season</th>\n",
       "      <th>holiday</th>\n",
       "      <th>workingday</th>\n",
       "      <th>weather</th>\n",
       "      <th>temp</th>\n",
       "      <th>atemp</th>\n",
       "      <th>humidity</th>\n",
       "      <th>windspeed</th>\n",
       "      <th>casual</th>\n",
       "      <th>registered</th>\n",
       "      <th>count</th>\n",
       "      <th>Prediction</th>\n",
       "    </tr>\n",
       "  </thead>\n",
       "  <tbody>\n",
       "    <tr>\n",
       "      <th>2012-12-19 23:00:00</th>\n",
       "      <td>4.0</td>\n",
       "      <td>0.0</td>\n",
       "      <td>1.0</td>\n",
       "      <td>1.0</td>\n",
       "      <td>-0.53339</td>\n",
       "      <td>-0.518369</td>\n",
       "      <td>66.0</td>\n",
       "      <td>-0.550856</td>\n",
       "      <td>4.0</td>\n",
       "      <td>84.0</td>\n",
       "      <td>88.0</td>\n",
       "      <td>NaN</td>\n",
       "    </tr>\n",
       "    <tr>\n",
       "      <th>2012-12-20 00:00:00</th>\n",
       "      <td>NaN</td>\n",
       "      <td>NaN</td>\n",
       "      <td>NaN</td>\n",
       "      <td>NaN</td>\n",
       "      <td>NaN</td>\n",
       "      <td>NaN</td>\n",
       "      <td>NaN</td>\n",
       "      <td>NaN</td>\n",
       "      <td>NaN</td>\n",
       "      <td>NaN</td>\n",
       "      <td>NaN</td>\n",
       "      <td>75.736572</td>\n",
       "    </tr>\n",
       "    <tr>\n",
       "      <th>2012-12-20 01:00:00</th>\n",
       "      <td>NaN</td>\n",
       "      <td>NaN</td>\n",
       "      <td>NaN</td>\n",
       "      <td>NaN</td>\n",
       "      <td>NaN</td>\n",
       "      <td>NaN</td>\n",
       "      <td>NaN</td>\n",
       "      <td>NaN</td>\n",
       "      <td>NaN</td>\n",
       "      <td>NaN</td>\n",
       "      <td>NaN</td>\n",
       "      <td>23.135208</td>\n",
       "    </tr>\n",
       "    <tr>\n",
       "      <th>2012-12-20 02:00:00</th>\n",
       "      <td>NaN</td>\n",
       "      <td>NaN</td>\n",
       "      <td>NaN</td>\n",
       "      <td>NaN</td>\n",
       "      <td>NaN</td>\n",
       "      <td>NaN</td>\n",
       "      <td>NaN</td>\n",
       "      <td>NaN</td>\n",
       "      <td>NaN</td>\n",
       "      <td>NaN</td>\n",
       "      <td>NaN</td>\n",
       "      <td>30.167915</td>\n",
       "    </tr>\n",
       "    <tr>\n",
       "      <th>2012-12-20 03:00:00</th>\n",
       "      <td>NaN</td>\n",
       "      <td>NaN</td>\n",
       "      <td>NaN</td>\n",
       "      <td>NaN</td>\n",
       "      <td>NaN</td>\n",
       "      <td>NaN</td>\n",
       "      <td>NaN</td>\n",
       "      <td>NaN</td>\n",
       "      <td>NaN</td>\n",
       "      <td>NaN</td>\n",
       "      <td>NaN</td>\n",
       "      <td>22.625137</td>\n",
       "    </tr>\n",
       "    <tr>\n",
       "      <th>2012-12-20 04:00:00</th>\n",
       "      <td>NaN</td>\n",
       "      <td>NaN</td>\n",
       "      <td>NaN</td>\n",
       "      <td>NaN</td>\n",
       "      <td>NaN</td>\n",
       "      <td>NaN</td>\n",
       "      <td>NaN</td>\n",
       "      <td>NaN</td>\n",
       "      <td>NaN</td>\n",
       "      <td>NaN</td>\n",
       "      <td>NaN</td>\n",
       "      <td>12.697693</td>\n",
       "    </tr>\n",
       "    <tr>\n",
       "      <th>2012-12-20 05:00:00</th>\n",
       "      <td>NaN</td>\n",
       "      <td>NaN</td>\n",
       "      <td>NaN</td>\n",
       "      <td>NaN</td>\n",
       "      <td>NaN</td>\n",
       "      <td>NaN</td>\n",
       "      <td>NaN</td>\n",
       "      <td>NaN</td>\n",
       "      <td>NaN</td>\n",
       "      <td>NaN</td>\n",
       "      <td>NaN</td>\n",
       "      <td>15.166893</td>\n",
       "    </tr>\n",
       "    <tr>\n",
       "      <th>2012-12-20 06:00:00</th>\n",
       "      <td>NaN</td>\n",
       "      <td>NaN</td>\n",
       "      <td>NaN</td>\n",
       "      <td>NaN</td>\n",
       "      <td>NaN</td>\n",
       "      <td>NaN</td>\n",
       "      <td>NaN</td>\n",
       "      <td>NaN</td>\n",
       "      <td>NaN</td>\n",
       "      <td>NaN</td>\n",
       "      <td>NaN</td>\n",
       "      <td>60.182320</td>\n",
       "    </tr>\n",
       "    <tr>\n",
       "      <th>2012-12-20 07:00:00</th>\n",
       "      <td>NaN</td>\n",
       "      <td>NaN</td>\n",
       "      <td>NaN</td>\n",
       "      <td>NaN</td>\n",
       "      <td>NaN</td>\n",
       "      <td>NaN</td>\n",
       "      <td>NaN</td>\n",
       "      <td>NaN</td>\n",
       "      <td>NaN</td>\n",
       "      <td>NaN</td>\n",
       "      <td>NaN</td>\n",
       "      <td>138.831879</td>\n",
       "    </tr>\n",
       "    <tr>\n",
       "      <th>2012-12-20 08:00:00</th>\n",
       "      <td>NaN</td>\n",
       "      <td>NaN</td>\n",
       "      <td>NaN</td>\n",
       "      <td>NaN</td>\n",
       "      <td>NaN</td>\n",
       "      <td>NaN</td>\n",
       "      <td>NaN</td>\n",
       "      <td>NaN</td>\n",
       "      <td>NaN</td>\n",
       "      <td>NaN</td>\n",
       "      <td>NaN</td>\n",
       "      <td>377.502350</td>\n",
       "    </tr>\n",
       "    <tr>\n",
       "      <th>2012-12-20 09:00:00</th>\n",
       "      <td>NaN</td>\n",
       "      <td>NaN</td>\n",
       "      <td>NaN</td>\n",
       "      <td>NaN</td>\n",
       "      <td>NaN</td>\n",
       "      <td>NaN</td>\n",
       "      <td>NaN</td>\n",
       "      <td>NaN</td>\n",
       "      <td>NaN</td>\n",
       "      <td>NaN</td>\n",
       "      <td>NaN</td>\n",
       "      <td>646.891479</td>\n",
       "    </tr>\n",
       "    <tr>\n",
       "      <th>2012-12-20 10:00:00</th>\n",
       "      <td>NaN</td>\n",
       "      <td>NaN</td>\n",
       "      <td>NaN</td>\n",
       "      <td>NaN</td>\n",
       "      <td>NaN</td>\n",
       "      <td>NaN</td>\n",
       "      <td>NaN</td>\n",
       "      <td>NaN</td>\n",
       "      <td>NaN</td>\n",
       "      <td>NaN</td>\n",
       "      <td>NaN</td>\n",
       "      <td>334.480896</td>\n",
       "    </tr>\n",
       "    <tr>\n",
       "      <th>2012-12-20 11:00:00</th>\n",
       "      <td>NaN</td>\n",
       "      <td>NaN</td>\n",
       "      <td>NaN</td>\n",
       "      <td>NaN</td>\n",
       "      <td>NaN</td>\n",
       "      <td>NaN</td>\n",
       "      <td>NaN</td>\n",
       "      <td>NaN</td>\n",
       "      <td>NaN</td>\n",
       "      <td>NaN</td>\n",
       "      <td>NaN</td>\n",
       "      <td>172.995514</td>\n",
       "    </tr>\n",
       "    <tr>\n",
       "      <th>2012-12-20 12:00:00</th>\n",
       "      <td>NaN</td>\n",
       "      <td>NaN</td>\n",
       "      <td>NaN</td>\n",
       "      <td>NaN</td>\n",
       "      <td>NaN</td>\n",
       "      <td>NaN</td>\n",
       "      <td>NaN</td>\n",
       "      <td>NaN</td>\n",
       "      <td>NaN</td>\n",
       "      <td>NaN</td>\n",
       "      <td>NaN</td>\n",
       "      <td>213.708847</td>\n",
       "    </tr>\n",
       "    <tr>\n",
       "      <th>2012-12-20 13:00:00</th>\n",
       "      <td>NaN</td>\n",
       "      <td>NaN</td>\n",
       "      <td>NaN</td>\n",
       "      <td>NaN</td>\n",
       "      <td>NaN</td>\n",
       "      <td>NaN</td>\n",
       "      <td>NaN</td>\n",
       "      <td>NaN</td>\n",
       "      <td>NaN</td>\n",
       "      <td>NaN</td>\n",
       "      <td>NaN</td>\n",
       "      <td>248.851883</td>\n",
       "    </tr>\n",
       "    <tr>\n",
       "      <th>2012-12-20 14:00:00</th>\n",
       "      <td>NaN</td>\n",
       "      <td>NaN</td>\n",
       "      <td>NaN</td>\n",
       "      <td>NaN</td>\n",
       "      <td>NaN</td>\n",
       "      <td>NaN</td>\n",
       "      <td>NaN</td>\n",
       "      <td>NaN</td>\n",
       "      <td>NaN</td>\n",
       "      <td>NaN</td>\n",
       "      <td>NaN</td>\n",
       "      <td>226.564331</td>\n",
       "    </tr>\n",
       "    <tr>\n",
       "      <th>2012-12-20 15:00:00</th>\n",
       "      <td>NaN</td>\n",
       "      <td>NaN</td>\n",
       "      <td>NaN</td>\n",
       "      <td>NaN</td>\n",
       "      <td>NaN</td>\n",
       "      <td>NaN</td>\n",
       "      <td>NaN</td>\n",
       "      <td>NaN</td>\n",
       "      <td>NaN</td>\n",
       "      <td>NaN</td>\n",
       "      <td>NaN</td>\n",
       "      <td>230.290314</td>\n",
       "    </tr>\n",
       "    <tr>\n",
       "      <th>2012-12-20 16:00:00</th>\n",
       "      <td>NaN</td>\n",
       "      <td>NaN</td>\n",
       "      <td>NaN</td>\n",
       "      <td>NaN</td>\n",
       "      <td>NaN</td>\n",
       "      <td>NaN</td>\n",
       "      <td>NaN</td>\n",
       "      <td>NaN</td>\n",
       "      <td>NaN</td>\n",
       "      <td>NaN</td>\n",
       "      <td>NaN</td>\n",
       "      <td>248.179077</td>\n",
       "    </tr>\n",
       "    <tr>\n",
       "      <th>2012-12-20 17:00:00</th>\n",
       "      <td>NaN</td>\n",
       "      <td>NaN</td>\n",
       "      <td>NaN</td>\n",
       "      <td>NaN</td>\n",
       "      <td>NaN</td>\n",
       "      <td>NaN</td>\n",
       "      <td>NaN</td>\n",
       "      <td>NaN</td>\n",
       "      <td>NaN</td>\n",
       "      <td>NaN</td>\n",
       "      <td>NaN</td>\n",
       "      <td>363.323914</td>\n",
       "    </tr>\n",
       "    <tr>\n",
       "      <th>2012-12-20 18:00:00</th>\n",
       "      <td>NaN</td>\n",
       "      <td>NaN</td>\n",
       "      <td>NaN</td>\n",
       "      <td>NaN</td>\n",
       "      <td>NaN</td>\n",
       "      <td>NaN</td>\n",
       "      <td>NaN</td>\n",
       "      <td>NaN</td>\n",
       "      <td>NaN</td>\n",
       "      <td>NaN</td>\n",
       "      <td>NaN</td>\n",
       "      <td>571.388550</td>\n",
       "    </tr>\n",
       "    <tr>\n",
       "      <th>2012-12-20 19:00:00</th>\n",
       "      <td>NaN</td>\n",
       "      <td>NaN</td>\n",
       "      <td>NaN</td>\n",
       "      <td>NaN</td>\n",
       "      <td>NaN</td>\n",
       "      <td>NaN</td>\n",
       "      <td>NaN</td>\n",
       "      <td>NaN</td>\n",
       "      <td>NaN</td>\n",
       "      <td>NaN</td>\n",
       "      <td>NaN</td>\n",
       "      <td>567.267212</td>\n",
       "    </tr>\n",
       "    <tr>\n",
       "      <th>2012-12-20 20:00:00</th>\n",
       "      <td>NaN</td>\n",
       "      <td>NaN</td>\n",
       "      <td>NaN</td>\n",
       "      <td>NaN</td>\n",
       "      <td>NaN</td>\n",
       "      <td>NaN</td>\n",
       "      <td>NaN</td>\n",
       "      <td>NaN</td>\n",
       "      <td>NaN</td>\n",
       "      <td>NaN</td>\n",
       "      <td>NaN</td>\n",
       "      <td>331.303223</td>\n",
       "    </tr>\n",
       "    <tr>\n",
       "      <th>2012-12-20 21:00:00</th>\n",
       "      <td>NaN</td>\n",
       "      <td>NaN</td>\n",
       "      <td>NaN</td>\n",
       "      <td>NaN</td>\n",
       "      <td>NaN</td>\n",
       "      <td>NaN</td>\n",
       "      <td>NaN</td>\n",
       "      <td>NaN</td>\n",
       "      <td>NaN</td>\n",
       "      <td>NaN</td>\n",
       "      <td>NaN</td>\n",
       "      <td>234.572052</td>\n",
       "    </tr>\n",
       "    <tr>\n",
       "      <th>2012-12-20 22:00:00</th>\n",
       "      <td>NaN</td>\n",
       "      <td>NaN</td>\n",
       "      <td>NaN</td>\n",
       "      <td>NaN</td>\n",
       "      <td>NaN</td>\n",
       "      <td>NaN</td>\n",
       "      <td>NaN</td>\n",
       "      <td>NaN</td>\n",
       "      <td>NaN</td>\n",
       "      <td>NaN</td>\n",
       "      <td>NaN</td>\n",
       "      <td>155.455383</td>\n",
       "    </tr>\n",
       "    <tr>\n",
       "      <th>2012-12-20 23:00:00</th>\n",
       "      <td>NaN</td>\n",
       "      <td>NaN</td>\n",
       "      <td>NaN</td>\n",
       "      <td>NaN</td>\n",
       "      <td>NaN</td>\n",
       "      <td>NaN</td>\n",
       "      <td>NaN</td>\n",
       "      <td>NaN</td>\n",
       "      <td>NaN</td>\n",
       "      <td>NaN</td>\n",
       "      <td>NaN</td>\n",
       "      <td>116.713249</td>\n",
       "    </tr>\n",
       "  </tbody>\n",
       "</table>\n",
       "</div>"
      ],
      "text/plain": [
       "                     season  holiday  workingday  weather     temp     atemp  \\\n",
       "2012-12-19 23:00:00     4.0      0.0         1.0      1.0 -0.53339 -0.518369   \n",
       "2012-12-20 00:00:00     NaN      NaN         NaN      NaN      NaN       NaN   \n",
       "2012-12-20 01:00:00     NaN      NaN         NaN      NaN      NaN       NaN   \n",
       "2012-12-20 02:00:00     NaN      NaN         NaN      NaN      NaN       NaN   \n",
       "2012-12-20 03:00:00     NaN      NaN         NaN      NaN      NaN       NaN   \n",
       "2012-12-20 04:00:00     NaN      NaN         NaN      NaN      NaN       NaN   \n",
       "2012-12-20 05:00:00     NaN      NaN         NaN      NaN      NaN       NaN   \n",
       "2012-12-20 06:00:00     NaN      NaN         NaN      NaN      NaN       NaN   \n",
       "2012-12-20 07:00:00     NaN      NaN         NaN      NaN      NaN       NaN   \n",
       "2012-12-20 08:00:00     NaN      NaN         NaN      NaN      NaN       NaN   \n",
       "2012-12-20 09:00:00     NaN      NaN         NaN      NaN      NaN       NaN   \n",
       "2012-12-20 10:00:00     NaN      NaN         NaN      NaN      NaN       NaN   \n",
       "2012-12-20 11:00:00     NaN      NaN         NaN      NaN      NaN       NaN   \n",
       "2012-12-20 12:00:00     NaN      NaN         NaN      NaN      NaN       NaN   \n",
       "2012-12-20 13:00:00     NaN      NaN         NaN      NaN      NaN       NaN   \n",
       "2012-12-20 14:00:00     NaN      NaN         NaN      NaN      NaN       NaN   \n",
       "2012-12-20 15:00:00     NaN      NaN         NaN      NaN      NaN       NaN   \n",
       "2012-12-20 16:00:00     NaN      NaN         NaN      NaN      NaN       NaN   \n",
       "2012-12-20 17:00:00     NaN      NaN         NaN      NaN      NaN       NaN   \n",
       "2012-12-20 18:00:00     NaN      NaN         NaN      NaN      NaN       NaN   \n",
       "2012-12-20 19:00:00     NaN      NaN         NaN      NaN      NaN       NaN   \n",
       "2012-12-20 20:00:00     NaN      NaN         NaN      NaN      NaN       NaN   \n",
       "2012-12-20 21:00:00     NaN      NaN         NaN      NaN      NaN       NaN   \n",
       "2012-12-20 22:00:00     NaN      NaN         NaN      NaN      NaN       NaN   \n",
       "2012-12-20 23:00:00     NaN      NaN         NaN      NaN      NaN       NaN   \n",
       "\n",
       "                     humidity  windspeed  casual  registered  count  \\\n",
       "2012-12-19 23:00:00      66.0  -0.550856     4.0        84.0   88.0   \n",
       "2012-12-20 00:00:00       NaN        NaN     NaN         NaN    NaN   \n",
       "2012-12-20 01:00:00       NaN        NaN     NaN         NaN    NaN   \n",
       "2012-12-20 02:00:00       NaN        NaN     NaN         NaN    NaN   \n",
       "2012-12-20 03:00:00       NaN        NaN     NaN         NaN    NaN   \n",
       "2012-12-20 04:00:00       NaN        NaN     NaN         NaN    NaN   \n",
       "2012-12-20 05:00:00       NaN        NaN     NaN         NaN    NaN   \n",
       "2012-12-20 06:00:00       NaN        NaN     NaN         NaN    NaN   \n",
       "2012-12-20 07:00:00       NaN        NaN     NaN         NaN    NaN   \n",
       "2012-12-20 08:00:00       NaN        NaN     NaN         NaN    NaN   \n",
       "2012-12-20 09:00:00       NaN        NaN     NaN         NaN    NaN   \n",
       "2012-12-20 10:00:00       NaN        NaN     NaN         NaN    NaN   \n",
       "2012-12-20 11:00:00       NaN        NaN     NaN         NaN    NaN   \n",
       "2012-12-20 12:00:00       NaN        NaN     NaN         NaN    NaN   \n",
       "2012-12-20 13:00:00       NaN        NaN     NaN         NaN    NaN   \n",
       "2012-12-20 14:00:00       NaN        NaN     NaN         NaN    NaN   \n",
       "2012-12-20 15:00:00       NaN        NaN     NaN         NaN    NaN   \n",
       "2012-12-20 16:00:00       NaN        NaN     NaN         NaN    NaN   \n",
       "2012-12-20 17:00:00       NaN        NaN     NaN         NaN    NaN   \n",
       "2012-12-20 18:00:00       NaN        NaN     NaN         NaN    NaN   \n",
       "2012-12-20 19:00:00       NaN        NaN     NaN         NaN    NaN   \n",
       "2012-12-20 20:00:00       NaN        NaN     NaN         NaN    NaN   \n",
       "2012-12-20 21:00:00       NaN        NaN     NaN         NaN    NaN   \n",
       "2012-12-20 22:00:00       NaN        NaN     NaN         NaN    NaN   \n",
       "2012-12-20 23:00:00       NaN        NaN     NaN         NaN    NaN   \n",
       "\n",
       "                     Prediction  \n",
       "2012-12-19 23:00:00         NaN  \n",
       "2012-12-20 00:00:00   75.736572  \n",
       "2012-12-20 01:00:00   23.135208  \n",
       "2012-12-20 02:00:00   30.167915  \n",
       "2012-12-20 03:00:00   22.625137  \n",
       "2012-12-20 04:00:00   12.697693  \n",
       "2012-12-20 05:00:00   15.166893  \n",
       "2012-12-20 06:00:00   60.182320  \n",
       "2012-12-20 07:00:00  138.831879  \n",
       "2012-12-20 08:00:00  377.502350  \n",
       "2012-12-20 09:00:00  646.891479  \n",
       "2012-12-20 10:00:00  334.480896  \n",
       "2012-12-20 11:00:00  172.995514  \n",
       "2012-12-20 12:00:00  213.708847  \n",
       "2012-12-20 13:00:00  248.851883  \n",
       "2012-12-20 14:00:00  226.564331  \n",
       "2012-12-20 15:00:00  230.290314  \n",
       "2012-12-20 16:00:00  248.179077  \n",
       "2012-12-20 17:00:00  363.323914  \n",
       "2012-12-20 18:00:00  571.388550  \n",
       "2012-12-20 19:00:00  567.267212  \n",
       "2012-12-20 20:00:00  331.303223  \n",
       "2012-12-20 21:00:00  234.572052  \n",
       "2012-12-20 22:00:00  155.455383  \n",
       "2012-12-20 23:00:00  116.713249  "
      ]
     },
     "execution_count": 96,
     "metadata": {},
     "output_type": "execute_result"
    }
   ],
   "source": [
    "df_proj.tail(25)"
   ]
  },
  {
   "cell_type": "code",
   "execution_count": 97,
   "metadata": {},
   "outputs": [
    {
     "data": {
      "text/plain": [
       "2012-12-19 19:00:00    336.0\n",
       "2012-12-19 20:00:00    241.0\n",
       "2012-12-19 21:00:00    168.0\n",
       "2012-12-19 22:00:00    129.0\n",
       "2012-12-19 23:00:00     88.0\n",
       "Name: count, dtype: float64"
      ]
     },
     "execution_count": 97,
     "metadata": {},
     "output_type": "execute_result"
    }
   ],
   "source": [
    "#capture the last 24 lines of data with \"Count\" i.e. column # 10\n",
    "df_act_final =df_proj.iloc[-48:-24, 10]\n",
    "#Preview the last 5 lines to show the time period of 12/19\n",
    "df_act_final.tail()"
   ]
  },
  {
   "cell_type": "code",
   "execution_count": 98,
   "metadata": {},
   "outputs": [
    {
     "data": {
      "text/plain": [
       "2012-12-20 00:00:00    75.736572\n",
       "2012-12-20 01:00:00    23.135208\n",
       "2012-12-20 02:00:00    30.167915\n",
       "2012-12-20 03:00:00    22.625137\n",
       "2012-12-20 04:00:00    12.697693\n",
       "Name: Prediction, dtype: float32"
      ]
     },
     "execution_count": 98,
     "metadata": {},
     "output_type": "execute_result"
    }
   ],
   "source": [
    "#Capture the last 24 lines of predicted data. \n",
    "#You can further simplify these two steps with an addition (\"Count + Pred\")\n",
    "df_pred_final =df_proj.iloc[-24:, 11]\n",
    "df_pred_final.head()"
   ]
  },
  {
   "cell_type": "code",
   "execution_count": 99,
   "metadata": {},
   "outputs": [
    {
     "data": {
      "text/plain": [
       "Text(0.5, 1.0, 'The next 24 hours')"
      ]
     },
     "execution_count": 99,
     "metadata": {},
     "output_type": "execute_result"
    },
    {
     "data": {
      "image/png": "[encoded data removed]",
      "text/plain": [
       "<Figure size 1296x432 with 1 Axes>"
      ]
     },
     "metadata": {},
     "output_type": "display_data"
    }
   ],
   "source": [
    "#To similulate future values, seaborn line plot is used. Next 24 hours is marked in orange \n",
    "#The prediction is not accurate during the late and early hours. The median hours look ok. Primarily due to lack of data\n",
    "#Reduced seasonality in the data\n",
    "sns.set() \n",
    "sns.set_style(\"whitegrid\") \n",
    "plt.figure(figsize=(18,6))\n",
    "sns.lineplot(x=df_act_final.index, y = df_act_final)\n",
    "sns.lineplot(x=df_pred_final.index, y = df_pred_final)\n",
    "plt.title(\"The next 24 hours\")"
   ]
  },
  {
   "cell_type": "code",
   "execution_count": null,
   "metadata": {},
   "outputs": [],
   "source": []
  }
 ],
 "metadata": {
  "kernelspec": {
   "display_name": "Python 3",
   "language": "python",
   "name": "python3"
  },
  "language_info": {
   "codemirror_mode": {
    "name": "ipython",
    "version": 3
   },
   "file_extension": ".py",
   "mimetype": "text/x-python",
   "name": "python",
   "nbconvert_exporter": "python",
   "pygments_lexer": "ipython3",
   "version": "3.6.9"
  }
 },
 "nbformat": 4,
 "nbformat_minor": 2
}
